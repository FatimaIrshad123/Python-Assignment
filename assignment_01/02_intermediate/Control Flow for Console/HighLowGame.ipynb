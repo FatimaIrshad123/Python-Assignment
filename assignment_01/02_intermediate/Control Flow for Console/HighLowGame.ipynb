{
  "nbformat": 4,
  "nbformat_minor": 0,
  "metadata": {
    "colab": {
      "provenance": [],
      "authorship_tag": "ABX9TyOdzl9FhMU/Q38RmYsfIdnx",
      "include_colab_link": true
    },
    "kernelspec": {
      "name": "python3",
      "display_name": "Python 3"
    },
    "language_info": {
      "name": "python"
    }
  },
  "cells": [
    {
      "cell_type": "markdown",
      "metadata": {
        "id": "view-in-github",
        "colab_type": "text"
      },
      "source": [
        "<a href=\"https://colab.research.google.com/github/FatimaIrshad123/Python-Assignment/blob/main/assignment_01/02_intermediate/Control%20Flow%20for%20Console/HighLowGame.ipynb\" target=\"_parent\"><img src=\"https://colab.research.google.com/assets/colab-badge.svg\" alt=\"Open In Colab\"/></a>"
      ]
    },
    {
      "cell_type": "markdown",
      "source": [
        "**Problem: High Low**\n",
        "\n",
        "We want you to gain more experience working with control flow and Booleans in Python. To do this, we are going to have you develop a game! The game is called High-Low and the way it's played goes as follows:\n",
        "\n",
        "Two numbers are generated from 1 to 100 (inclusive on both ends): one for you and one for a computer, who will be your opponent. You can see your number, but not the computer's!\n",
        "\n",
        "You make a guess, saying your number is either higher than or lower than the computer's number\n",
        "\n",
        "If your guess matches the truth (ex. you guess your number is higher, and then your number is actually higher than the computer's), you get a point!\n",
        "\n",
        "These steps make up one round of the game. The game is over after all rounds have been played.\n",
        "\n",
        "We've provided a sample run below."
      ],
      "metadata": {
        "id": "QcXvAWH6BdZ3"
      }
    },
    {
      "cell_type": "code",
      "execution_count": null,
      "metadata": {
        "colab": {
          "base_uri": "https://localhost:8080/"
        },
        "id": "99osaS1g4QE7",
        "outputId": "caf50387-62ed-4743-fb6f-f1f5ab28f461"
      },
      "outputs": [
        {
          "output_type": "stream",
          "name": "stdout",
          "text": [
            "Enter a number between 1 and 100: 70\n",
            "Do you think your number is higher or lower than the computer's?:higher\n",
            "You were right! The computer's number was 17\n",
            "Enter a number between 1 and 100: 23\n",
            "Do you think your number is higher or lower than the computer's?:lower\n",
            "You were right! The computer's number was 66\n",
            "Enter a number between 1 and 100: 12\n",
            "Do you think your number is higher or lower than the computer's?:higher\n",
            "You were wrong! The computer's number was 62\n",
            "Your score is 2\n"
          ]
        }
      ],
      "source": [
        "import random\n",
        "\n",
        "nums_round = 3;\n",
        "\n",
        "def highlowgame():\n",
        "\n",
        "  your_score = 0;\n",
        "\n",
        "  for i in range(nums_round):\n",
        "    computer_number = random.randint(1, 100)\n",
        "    your_number = int(input(\"Enter a number between 1 and 100: \"))\n",
        "    your_guess = str(input(\"Do you think your number is higher or lower than the computer's?:\"))\n",
        "\n",
        "\n",
        "    if (your_guess == \"higher\") & (your_number > computer_number):\n",
        "        print(f\"You were right! The computer's number was {computer_number}\")\n",
        "        your_score += 1\n",
        "    elif (your_guess == \"lower\") & (your_number < computer_number):\n",
        "        print(f\"You were right! The computer's number was {computer_number}\")\n",
        "        your_score += 1\n",
        "    else:\n",
        "        print(f\"You were wrong! The computer's number was {computer_number}\")\n",
        "    print(f\"Your score is {your_score}\")\n",
        "\n",
        "highlowgame()"
      ]
    }
  ]
}