{
  "nbformat": 4,
  "nbformat_minor": 0,
  "metadata": {
    "colab": {
      "provenance": [],
      "authorship_tag": "ABX9TyOkAHju82DqST6vTknD6vvv",
      "include_colab_link": true
    },
    "kernelspec": {
      "name": "python3",
      "display_name": "Python 3"
    },
    "language_info": {
      "name": "python"
    }
  },
  "cells": [
    {
      "cell_type": "markdown",
      "metadata": {
        "id": "view-in-github",
        "colab_type": "text"
      },
      "source": [
        "<a href=\"https://colab.research.google.com/github/FatimaIrshad123/Python-Assignment/blob/main/assignment_01/02_intermediate/Intro%20to%20Python/WeightCalculator1.ipynb\" target=\"_parent\"><img src=\"https://colab.research.google.com/assets/colab-badge.svg\" alt=\"Open In Colab\"/></a>"
      ]
    },
    {
      "cell_type": "markdown",
      "source": [
        "**Planetary Weight Calculator**"
      ],
      "metadata": {
        "id": "UtHx_Wy-iGqz"
      }
    },
    {
      "cell_type": "markdown",
      "source": [
        "**Milestone 1: Mars Weight**\n",
        "A few years ago, NASA made history with the first controlled flight on another planet. Its latest Mars Rover, Perseverance, has onboard a 50cm high helicopter called Ingenuity. Ingenuity made its third flight, during which it flew faster and further than it had on any of its test flights on Earth. Interestingly, Ingenuity uses Python for some of its flight modeling software!\n",
        "\n",
        "Ingenuity on the surface of Mars (source: NASA)\n",
        "\n",
        "When programming Ingenuity, one of the things that NASA engineers need to account for is the fact that due to the weaker gravity on Mars, an Earthling's weight on Mars is 37.8% of their weight on Earth. Write a Python program that prompts an Earthling to enter their weight on Earth and prints their calculated weight on Mars.\n",
        "\n",
        "The output should be rounded to two decimal places when necessary. Python has a round function which can help you with this. You pass in the value to be rounded and the number of decimal places to use. In the example below, the number 3.1415926 is rounded to 2 decimal places which is 3.14."
      ],
      "metadata": {
        "id": "B-S330yws8in"
      }
    },
    {
      "cell_type": "code",
      "source": [
        "def mars_weight():\n",
        "\n",
        "  weight = float(input(\"Enter your weight on Earth: \"))\n",
        "\n",
        "  Mars_in_percentage = 37.8\n",
        "  Mars = Mars_in_percentage/100\n",
        "\n",
        "  weight_on_Mars = round(weight * Mars, 2)\n",
        "\n",
        "  print(f\"The equivalent on Mars: {weight_on_Mars}\")\n",
        "\n",
        "mars_weight()\n"
      ],
      "metadata": {
        "colab": {
          "base_uri": "https://localhost:8080/"
        },
        "id": "s5Iy2cekmPgN",
        "outputId": "8d3701f2-5efd-4624-ac89-9a7ba1830068"
      },
      "execution_count": null,
      "outputs": [
        {
          "output_type": "stream",
          "name": "stdout",
          "text": [
            "Enter your weight on Earth: 120\n",
            "The equivalent on Mars: 45.36\n"
          ]
        }
      ]
    },
    {
      "cell_type": "markdown",
      "source": [
        "**Milestone 2: Adding in All Planets**\n",
        "\n",
        "Mars is not the only planet in our solar system with its own unique gravity. In fact, each planet has a different gravitational constant, which affects how much an object would weigh on that planet. Below is a list of the constants for each planet compared to Earth's gravity:\n",
        "\n",
        "Mercury: 37.6%\n",
        "\n",
        "Venus: 88.9%\n",
        "\n",
        "Mars: 37.8%\n",
        "\n",
        "Jupiter: 236.0%\n",
        "\n",
        "Saturn: 108.1%\n",
        "\n",
        "Uranus: 81.5%\n",
        "\n",
        "Neptune: 114.0%\n",
        "\n",
        "Write a Python program that prompts an Earthling to enter their weight on Earth and then to enter the name of a planet in our solar system. The program should print the equivalent weight on that planet rounded to 2 decimal places if necessary.\n",
        "\n",
        "You can assume that the user will always type in a planet with the first letter capitalized and you do not need to worry about the case where they type in something other than one of the above planets."
      ],
      "metadata": {
        "id": "Fhj0b3dPuW5g"
      }
    },
    {
      "cell_type": "code",
      "source": [
        "def all_planets_weight():\n",
        "  weight = float(input(\"Enter your weight on Earth: \"))\n",
        "  planet = input(\"Enter the name of a planet in our solar system: \")\n",
        "\n",
        "  if planet == \"Mercury\":\n",
        "    Mercury_in_percentage = 37.6\n",
        "    Mercury = Mercury_in_percentage/100\n",
        "    weight_on_Mercury = round(weight * Mercury, 2)\n",
        "    return (f\"weight_on_Mercury {weight_on_Mercury}\")\n",
        "\n",
        "  elif planet == \"Venus\":\n",
        "    Venus_in_percentage = 88.9\n",
        "    Venus = Venus_in_percentage/100\n",
        "    weight_on_Venus = round(weight * Venus, 2)\n",
        "    return (f\"weight_on_Venus {weight_on_Venus}\")\n",
        "\n",
        "  elif planet == \"Mars\":\n",
        "    Mars_in_percentage = 37.8\n",
        "    Mars = Mars_in_percentage/100\n",
        "    weight_on_Mars = round(weight * Mars, 2)\n",
        "    return (f\"weight_on_Mars {weight_on_Mars}\")\n",
        "\n",
        "  elif planet == \"Jupiter\":\n",
        "    Jupiter_in_percentage = 236.0\n",
        "    Jupiter = Jupiter_in_percentage/100\n",
        "    weight_on_Jupiter = round(weight * Jupiter, 2)\n",
        "    return (f\"weight_on_Jupiter {weight_on_Jupiter}\")\n",
        "\n",
        "  elif planet == \"Saturn\":\n",
        "    Saturn_in_percentage = 108.1\n",
        "    Saturn = Saturn_in_percentage/100\n",
        "    weight_on_Saturn = round(weight * Saturn, 2)\n",
        "    return (f\"weight_on_Saturn {weight_on_Saturn}\")\n",
        "\n",
        "  elif planet == \"Uranus\":\n",
        "    Uranus_in_percentage = 81.5\n",
        "    Uranus = Uranus_in_percentage/100\n",
        "    weight_on_Uranus = round(weight * Uranus, 2)\n",
        "    return (f\"weight_on_Uranus {weight_on_Uranus}\")\n",
        "\n",
        "  elif planet == \"Neptune\":\n",
        "    Neptune_in_percentage = 114.0\n",
        "    Neptune = Neptune_in_percentage/100\n",
        "    weight_on_Neptune = round(weight * Neptune, 2)\n",
        "    return (f\"weight_on_Neptune {weight_on_Neptune}\")\n",
        "\n",
        "  else:\n",
        "    return \"That is not a planet in our solar system\"\n",
        "\n",
        "all_planets_weight()"
      ],
      "metadata": {
        "colab": {
          "base_uri": "https://localhost:8080/",
          "height": 70
        },
        "id": "IpIQWZYDucoX",
        "outputId": "6ab76471-edf6-469d-bccb-df118649044d"
      },
      "execution_count": null,
      "outputs": [
        {
          "name": "stdout",
          "output_type": "stream",
          "text": [
            "Enter your weight on Earth: 120\n",
            "Enter the name of a planet in our solar system: Mars\n"
          ]
        },
        {
          "output_type": "execute_result",
          "data": {
            "text/plain": [
              "'weight_on_Mars 45.36'"
            ],
            "application/vnd.google.colaboratory.intrinsic+json": {
              "type": "string"
            }
          },
          "metadata": {},
          "execution_count": 7
        }
      ]
    }
  ]
}