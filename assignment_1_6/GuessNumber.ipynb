{
  "nbformat": 4,
  "nbformat_minor": 0,
  "metadata": {
    "colab": {
      "provenance": [],
      "authorship_tag": "ABX9TyOZyy7kK8jsez1alJ8wy8Ij",
      "include_colab_link": true
    },
    "kernelspec": {
      "name": "python3",
      "display_name": "Python 3"
    },
    "language_info": {
      "name": "python"
    }
  },
  "cells": [
    {
      "cell_type": "markdown",
      "metadata": {
        "id": "view-in-github",
        "colab_type": "text"
      },
      "source": [
        "<a href=\"https://colab.research.google.com/github/FatimaIrshad123/Python-Assignment/blob/main/assignment_1_6/GuessNumber.ipynb\" target=\"_parent\"><img src=\"https://colab.research.google.com/assets/colab-badge.svg\" alt=\"Open In Colab\"/></a>"
      ]
    },
    {
      "cell_type": "markdown",
      "source": [
        "**Guess my Number**"
      ],
      "metadata": {
        "id": "zFXbwvBuGxkl"
      }
    },
    {
      "cell_type": "code",
      "execution_count": null,
      "metadata": {
        "colab": {
          "base_uri": "https://localhost:8080/"
        },
        "id": "ad2ia5vUiUwW",
        "outputId": "2f605a8e-bd0f-41a0-e53e-cb36bf915a60"
      },
      "outputs": [
        {
          "output_type": "stream",
          "name": "stdout",
          "text": [
            "Enter a guess:90\n",
            "90\n",
            "Enter a new number: 90 Your guess is too high\n",
            "46\n"
          ]
        }
      ],
      "source": [
        "import random\n",
        "\n",
        "guess = int(input(\"Enter a guess:\"))\n",
        "\n",
        "def main():\n",
        "  num = random.randint(0,99)\n",
        "  if guess <= num:\n",
        "     print(f\"Enter a new number: {guess} Your guess is too low\")\n",
        "  elif guess >= num:\n",
        "    print(f\"Enter a new number: {guess} Your guess is too high\")\n",
        "  elif guess == num:\n",
        "    print(f\"{guess} Congrats! The number was: num\")\n",
        "  else:\n",
        "    print(\"Something went wrong\")\n",
        "\n",
        "main()\n"
      ]
    },
    {
      "cell_type": "markdown",
      "source": [],
      "metadata": {
        "id": "dtkwEYO-GvbC"
      }
    },
    {
      "cell_type": "markdown",
      "source": [
        "**Random Numbers Assignment**"
      ],
      "metadata": {
        "id": "vXzclRB0GN1N"
      }
    },
    {
      "cell_type": "code",
      "source": [
        "import random\n",
        "\n",
        "N_NUMBERS: int = 10\n",
        "MIN_VALUE: int = 1\n",
        "MAX_VALUE: int = 100\n",
        "listOfNum = []\n",
        "\n",
        "def main():\n",
        "    for i in range(0,10):\n",
        "      listOfNum.append(random.randint(MIN_VALUE,MAX_VALUE))\n",
        "\n",
        "    print(listOfNum)\n",
        "main()"
      ],
      "metadata": {
        "colab": {
          "base_uri": "https://localhost:8080/"
        },
        "id": "oTguGv6NGT3h",
        "outputId": "90f51378-b0d8-422a-c9dd-e8a3aa1b2ca7"
      },
      "execution_count": null,
      "outputs": [
        {
          "output_type": "stream",
          "name": "stdout",
          "text": [
            "[37, 35, 2, 3, 57, 1, 59, 9, 69]\n"
          ]
        }
      ]
    },
    {
      "cell_type": "code",
      "source": [
        "import time\n",
        "\n",
        "for num in range(10,0,-1):\n",
        "  print(num)\n",
        "  time.sleep(1)\n",
        "\n",
        "print(\"Liftoff!\")"
      ],
      "metadata": {
        "colab": {
          "base_uri": "https://localhost:8080/"
        },
        "id": "tSW6jr3YxXZU",
        "outputId": "2a47a001-b695-4006-81b3-825373d1c5ed"
      },
      "execution_count": null,
      "outputs": [
        {
          "output_type": "stream",
          "name": "stdout",
          "text": [
            "10\n",
            "9\n",
            "8\n",
            "7\n",
            "6\n",
            "5\n",
            "4\n",
            "3\n",
            "2\n",
            "1\n",
            "Liftoff!\n"
          ]
        }
      ]
    },
    {
      "cell_type": "code",
      "source": [
        "import random\n",
        "\n",
        "for i in range(10):\n",
        "  print(random.randint(1,100), end=\" \")"
      ],
      "metadata": {
        "colab": {
          "base_uri": "https://localhost:8080/"
        },
        "id": "hWRQnIH96lGa",
        "outputId": "725a36a1-3f9b-41d8-f883-ea2666dd3658"
      },
      "execution_count": null,
      "outputs": [
        {
          "output_type": "stream",
          "name": "stdout",
          "text": [
            "14 3 32 5 38 44 36 67 70 38 "
          ]
        }
      ]
    }
  ]
}