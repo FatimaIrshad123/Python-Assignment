{
  "nbformat": 4,
  "nbformat_minor": 0,
  "metadata": {
    "colab": {
      "provenance": [],
      "authorship_tag": "ABX9TyMMNGMSiG1ahnTQhKbUO4wh",
      "include_colab_link": true
    },
    "kernelspec": {
      "name": "python3",
      "display_name": "Python 3"
    },
    "language_info": {
      "name": "python"
    }
  },
  "cells": [
    {
      "cell_type": "markdown",
      "metadata": {
        "id": "view-in-github",
        "colab_type": "text"
      },
      "source": [
        "<a href=\"https://colab.research.google.com/github/FatimaIrshad123/Python-Assignment/blob/main/assignment_1_6/Hangman.ipynb\" target=\"_parent\"><img src=\"https://colab.research.google.com/assets/colab-badge.svg\" alt=\"Open In Colab\"/></a>"
      ]
    },
    {
      "cell_type": "code",
      "execution_count": null,
      "metadata": {
        "id": "lOViEIVNtEw3",
        "colab": {
          "base_uri": "https://localhost:8080/"
        },
        "outputId": "53f29037-5723-472d-c048-0fe769f6112d"
      },
      "outputs": [
        {
          "output_type": "stream",
          "name": "stdout",
          "text": [
            "You have 6 lives left and you have used these letters: \n",
            "Current word:  - - - - - - - - -\n",
            "Guess a letter: x\n",
            "used_letters {'X'}\n",
            "Letter is not in word.\n",
            "You have 5 lives left and you have used these letters: X\n",
            "Current word:  - - - - - - - - -\n",
            "Guess a letter: a\n",
            "used_letters {'X', 'A'}\n",
            "Letter is not in word.\n",
            "You have 4 lives left and you have used these letters: X A\n",
            "Current word:  - - - - - - - - -\n",
            "Guess a letter: b\n",
            "used_letters {'B', 'X', 'A'}\n",
            "Letter is not in word.\n",
            "You have 3 lives left and you have used these letters: B X A\n",
            "Current word:  - - - - - - - - -\n",
            "Guess a letter: e\n",
            "used_letters {'E', 'B', 'X', 'A'}\n",
            "Letter is not in word.\n",
            "You have 2 lives left and you have used these letters: E B X A\n",
            "Current word:  - - - - - - - - -\n",
            "Guess a letter: f\n",
            "used_letters {'X', 'E', 'B', 'A', 'F'}\n",
            "Letter is not in word.\n",
            "You have 1 lives left and you have used these letters: X E B A F\n",
            "Current word:  - - - - - - - - -\n",
            "Guess a letter: o\n",
            "used_letters {'X', 'E', 'B', 'A', 'F', 'O'}\n",
            "Letter is not in word.\n",
            "You died, sorry. The word was invention\n"
          ]
        }
      ],
      "source": [
        "import random\n",
        "from words import words\n",
        "import string\n",
        "\n",
        "def get_valid_word(words):\n",
        "  word = random.choice(words)\n",
        "  while '-' in word or \" \" in word:\n",
        "    word = random.choice(words)\n",
        "  return word\n",
        "\n",
        "def hangman():\n",
        "  word = get_valid_word(words)\n",
        "  word_letters = set(word)\n",
        "  alphabet = set(string.ascii_uppercase)\n",
        "  used_letters = set()\n",
        "\n",
        "  lives = 6\n",
        "\n",
        "  while len(word_letters) > 0 and lives > 0:\n",
        "    print('You have',lives,'lives left and you have used these letters:', ' '. join(used_letters))\n",
        "\n",
        "    word_list = [letter if letter in used_letters else '-' for letter in word]\n",
        "    print('Current word: ', \" \".join(word_list))\n",
        "\n",
        "    user_letter = input('Guess a letter: ').upper()\n",
        "    if user_letter in alphabet - used_letters:\n",
        "      used_letters.add(user_letter)\n",
        "      print(f\"used_letters {used_letters}\")\n",
        "      if user_letter in word_letters:\n",
        "        word_letters.remove(user_letter)\n",
        "\n",
        "      else:\n",
        "        lives = lives-1\n",
        "        print('Letter is not in word.')\n",
        "\n",
        "    elif user_letter in used_letters:\n",
        "      print('You have already used that character. Please try again.')\n",
        "\n",
        "    else:\n",
        "      print('Invalid character. Please try again.')\n",
        "\n",
        "  if lives == 0:\n",
        "    print('You died, sorry. The word was', word)\n",
        "  else:\n",
        "    print('You guessed the word', word, '!!')u\n",
        "    m\n",
        "    y\n",
        "    z\n",
        "    a\n",
        "\n",
        "\n",
        "hangman()"
      ]
    }
  ]
}