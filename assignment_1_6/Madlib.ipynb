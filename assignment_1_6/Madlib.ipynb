{
  "nbformat": 4,
  "nbformat_minor": 0,
  "metadata": {
    "colab": {
      "provenance": [],
      "authorship_tag": "ABX9TyMemhf1M/3hckmcD5jH+kd9",
      "include_colab_link": true
    },
    "kernelspec": {
      "name": "python3",
      "display_name": "Python 3"
    },
    "language_info": {
      "name": "python"
    }
  },
  "cells": [
    {
      "cell_type": "markdown",
      "metadata": {
        "id": "view-in-github",
        "colab_type": "text"
      },
      "source": [
        "<a href=\"https://colab.research.google.com/github/FatimaIrshad123/Python-Assignment/blob/main/assignment_1_6/Madlib.ipynb\" target=\"_parent\"><img src=\"https://colab.research.google.com/assets/colab-badge.svg\" alt=\"Open In Colab\"/></a>"
      ]
    },
    {
      "cell_type": "code",
      "execution_count": null,
      "metadata": {
        "colab": {
          "base_uri": "https://localhost:8080/"
        },
        "id": "R-aKD49XrK8T",
        "outputId": "646c4e16-71cf-4524-fa53-508be60c52b0"
      },
      "outputs": [
        {
          "output_type": "stream",
          "name": "stdout",
          "text": [
            "Hi my name isFatima\n",
            "Hi my name is Fatima\n",
            "Hi my name is Fatima\n"
          ]
        }
      ],
      "source": [
        "name = \"Fatima\"\n",
        "print(\"Hi my name is\" + name)\n",
        "print(\"Hi my name is {}\".format(name))\n",
        "print(f\"Hi my name is {name}\")"
      ]
    }
  ]
}