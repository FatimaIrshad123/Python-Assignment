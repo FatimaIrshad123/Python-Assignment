{
  "nbformat": 4,
  "nbformat_minor": 0,
  "metadata": {
    "colab": {
      "provenance": [],
      "authorship_tag": "ABX9TyO450eh7k4Qy665GxR/e+ql",
      "include_colab_link": true
    },
    "kernelspec": {
      "name": "python3",
      "display_name": "Python 3"
    },
    "language_info": {
      "name": "python"
    }
  },
  "cells": [
    {
      "cell_type": "markdown",
      "metadata": {
        "id": "view-in-github",
        "colab_type": "text"
      },
      "source": [
        "<a href=\"https://colab.research.google.com/github/FatimaIrshad123/Python-Assignment/blob/main/assignment_1_6/rock_paper_scissors.ipynb\" target=\"_parent\"><img src=\"https://colab.research.google.com/assets/colab-badge.svg\" alt=\"Open In Colab\"/></a>"
      ]
    },
    {
      "cell_type": "code",
      "execution_count": null,
      "metadata": {
        "colab": {
          "base_uri": "https://localhost:8080/"
        },
        "id": "77v0Jzagy0Fx",
        "outputId": "74bda3e8-da46-4b94-a27f-5526c49d81b5"
      },
      "outputs": [
        {
          "output_type": "stream",
          "name": "stdout",
          "text": [
            "Enter a choice (rock, paper, scissors): rock\n",
            "\n",
            "You chose rock, computer chose scissors.\n",
            "\n",
            "You won!\n"
          ]
        }
      ],
      "source": [
        "import random\n",
        "\n",
        "def rock_paper_scissors():\n",
        "    user_choice = input(\"Enter a choice (rock, paper, scissors): \")\n",
        "    computer = random.choice([\"rock\", \"paper\", \"scissors\"])\n",
        "    print(f\"\\nYou chose {user_choice}, computer chose {computer}.\\n\")\n",
        "\n",
        "    if user_choice == computer:\n",
        "      return \"It's a tie!\"\n",
        "\n",
        "    if is_win(user_choice, computer):\n",
        "      return \"You won!\"\n",
        "\n",
        "    return \"You lost!\"\n",
        "\n",
        "def is_win(player, opponent):\n",
        "    if (player == \"rock\" and opponent == \"scissors\") or (player == \"paper\" and opponent == \"rock\") or (player == \"scissors\" and opponent == \"paper\"):\n",
        "      return True\n",
        "    return False\n",
        "\n",
        "print(rock_paper_scissors())"
      ]
    }
  ]
}